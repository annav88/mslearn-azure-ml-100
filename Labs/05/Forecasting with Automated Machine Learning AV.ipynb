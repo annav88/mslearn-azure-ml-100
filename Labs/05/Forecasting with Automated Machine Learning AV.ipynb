{
  "cells": [
    {
      "cell_type": "markdown",
      "source": [
        "# Train a forecasting model with Automated Machine Learning\n",
        "\n",
        "There are many kinds of machine learning algorithm that you can use to train a model, and sometimes it's not easy to determine the most effective algorithm for your particular data and prediction requirements. Additionally, you can significantly affect the predictive performance of a model by preprocessing the training data, using techniques such as normalization, missing feature imputation, and others. In your quest to find the best model for your requirements, you may need to try many combinations of algorithms and preprocessing transformations; which takes a lot of time and compute resources.\n",
        "\n",
        "Azure Machine Learning enables you to automate the comparison of models trained using different algorithms and preprocessing options. You can use the visual interface in [Azure Machine Learning Studio](https://ml/azure.com) or the Python SDK (v2) to leverage this capability. The Python SDK gives you greater control over the settings for the automated machine learning job, but the visual interface is easier to use.\n",
        "\n",
        "## Before you start\n",
        "\n",
        "You'll need the latest version of the  **azureml-ai-ml** package to run the code in this notebook. Run the cell below to verify that it is installed."
      ],
      "metadata": {}
    },
    {
      "cell_type": "code",
      "source": [
        "pip show azure-ai-ml"
      ],
      "outputs": [
        {
          "output_type": "stream",
          "name": "stdout",
          "text": "Name: azure-ai-ml\r\nVersion: 1.0.0\r\nSummary: Microsoft Azure Machine Learning Client Library for Python\r\nHome-page: https://github.com/Azure/azure-sdk-for-python\r\nAuthor: Microsoft Corporation\r\nAuthor-email: azuresdkengsysadmins@microsoft.com\r\nLicense: MIT License\r\nLocation: /anaconda/envs/azureml_py38/lib/python3.8/site-packages\r\nRequires: azure-common, pydash, marshmallow, colorama, isodate, strictyaml, azure-storage-blob, tqdm, jsonschema, azure-storage-file-share, msrest, typing-extensions, azure-mgmt-core, pyjwt, azure-storage-file-datalake, azure-core, pyyaml\r\nRequired-by: \r\nNote: you may need to restart the kernel to use updated packages.\n"
        }
      ],
      "execution_count": 88,
      "metadata": {}
    },
    {
      "cell_type": "markdown",
      "source": [
        "If the package is not installed, you can use the below cell to install it."
      ],
      "metadata": {
        "nteract": {
          "transient": {
            "deleting": false
          }
        }
      }
    },
    {
      "cell_type": "code",
      "source": [
        "pip install --pre azure-ai-ml"
      ],
      "outputs": [
        {
          "output_type": "stream",
          "name": "stdout",
          "text": "Requirement already satisfied: azure-ai-ml in /anaconda/envs/azureml_py38/lib/python3.8/site-packages (1.0.0)\nRequirement already satisfied: strictyaml<=1.6.1 in /anaconda/envs/azureml_py38/lib/python3.8/site-packages (from azure-ai-ml) (1.6.1)\nRequirement already satisfied: tqdm<=4.63.0 in /anaconda/envs/azureml_py38/lib/python3.8/site-packages (from azure-ai-ml) (4.63.0)\nRequirement already satisfied: typing-extensions<5.0.0 in /anaconda/envs/azureml_py38/lib/python3.8/site-packages (from azure-ai-ml) (4.3.0)\nRequirement already satisfied: msrest>=0.6.18 in /anaconda/envs/azureml_py38/lib/python3.8/site-packages (from azure-ai-ml) (0.7.1)\nRequirement already satisfied: colorama<=0.4.4 in /anaconda/envs/azureml_py38/lib/python3.8/site-packages (from azure-ai-ml) (0.4.4)\nRequirement already satisfied: pyjwt<3.0.0 in /anaconda/envs/azureml_py38/lib/python3.8/site-packages (from azure-ai-ml) (2.4.0)\nRequirement already satisfied: azure-common<2.0.0,>=1.1 in /anaconda/envs/azureml_py38/lib/python3.8/site-packages (from azure-ai-ml) (1.1.28)\nRequirement already satisfied: jsonschema<5.0.0,>=4.0.0 in /anaconda/envs/azureml_py38/lib/python3.8/site-packages (from azure-ai-ml) (4.9.1)\nRequirement already satisfied: azure-core!=1.22.0,<2.0.0,>=1.8.0 in /anaconda/envs/azureml_py38/lib/python3.8/site-packages (from azure-ai-ml) (1.24.2)\nRequirement already satisfied: marshmallow<4.0.0,>=3.5 in /anaconda/envs/azureml_py38/lib/python3.8/site-packages (from azure-ai-ml) (3.18.0)\nRequirement already satisfied: isodate in /anaconda/envs/azureml_py38/lib/python3.8/site-packages (from azure-ai-ml) (0.6.1)\nRequirement already satisfied: azure-storage-blob<13.0.0,>=12.10.0 in /anaconda/envs/azureml_py38/lib/python3.8/site-packages (from azure-ai-ml) (12.14.0)\nRequirement already satisfied: azure-storage-file-share<13.0.0 in /anaconda/envs/azureml_py38/lib/python3.8/site-packages (from azure-ai-ml) (12.10.0)\nRequirement already satisfied: azure-mgmt-core<2.0.0,>=1.3.0 in /anaconda/envs/azureml_py38/lib/python3.8/site-packages (from azure-ai-ml) (1.3.0)\nRequirement already satisfied: pyyaml<7.0.0,>=5.1.0 in /anaconda/envs/azureml_py38/lib/python3.8/site-packages (from azure-ai-ml) (6.0)\nRequirement already satisfied: azure-storage-file-datalake<13.0.0 in /anaconda/envs/azureml_py38/lib/python3.8/site-packages (from azure-ai-ml) (12.9.0)\nRequirement already satisfied: pydash<6.0.0 in /anaconda/envs/azureml_py38/lib/python3.8/site-packages (from azure-ai-ml) (5.1.1)\nRequirement already satisfied: python-dateutil>=2.6.0 in /anaconda/envs/azureml_py38/lib/python3.8/site-packages (from strictyaml<=1.6.1->azure-ai-ml) (2.8.2)\nRequirement already satisfied: certifi>=2017.4.17 in /anaconda/envs/azureml_py38/lib/python3.8/site-packages (from msrest>=0.6.18->azure-ai-ml) (2022.6.15)\nRequirement already satisfied: requests-oauthlib>=0.5.0 in /anaconda/envs/azureml_py38/lib/python3.8/site-packages (from msrest>=0.6.18->azure-ai-ml) (1.3.1)\nRequirement already satisfied: requests~=2.16 in /anaconda/envs/azureml_py38/lib/python3.8/site-packages (from msrest>=0.6.18->azure-ai-ml) (2.28.1)\nRequirement already satisfied: pkgutil-resolve-name>=1.3.10; python_version < \"3.9\" in /anaconda/envs/azureml_py38/lib/python3.8/site-packages (from jsonschema<5.0.0,>=4.0.0->azure-ai-ml) (1.3.10)\nRequirement already satisfied: attrs>=17.4.0 in /anaconda/envs/azureml_py38/lib/python3.8/site-packages (from jsonschema<5.0.0,>=4.0.0->azure-ai-ml) (22.1.0)\nRequirement already satisfied: pyrsistent!=0.17.0,!=0.17.1,!=0.17.2,>=0.14.0 in /anaconda/envs/azureml_py38/lib/python3.8/site-packages (from jsonschema<5.0.0,>=4.0.0->azure-ai-ml) (0.18.1)\nRequirement already satisfied: importlib-resources>=1.4.0; python_version < \"3.9\" in /anaconda/envs/azureml_py38/lib/python3.8/site-packages (from jsonschema<5.0.0,>=4.0.0->azure-ai-ml) (5.9.0)\nRequirement already satisfied: six>=1.11.0 in /anaconda/envs/azureml_py38/lib/python3.8/site-packages (from azure-core!=1.22.0,<2.0.0,>=1.8.0->azure-ai-ml) (1.16.0)\nRequirement already satisfied: packaging>=17.0 in /anaconda/envs/azureml_py38/lib/python3.8/site-packages (from marshmallow<4.0.0,>=3.5->azure-ai-ml) (21.3)\nRequirement already satisfied: cryptography>=2.1.4 in /anaconda/envs/azureml_py38/lib/python3.8/site-packages (from azure-storage-blob<13.0.0,>=12.10.0->azure-ai-ml) (37.0.4)\nRequirement already satisfied: oauthlib>=3.0.0 in /anaconda/envs/azureml_py38/lib/python3.8/site-packages (from requests-oauthlib>=0.5.0->msrest>=0.6.18->azure-ai-ml) (3.2.0)\nRequirement already satisfied: urllib3<1.27,>=1.21.1 in /anaconda/envs/azureml_py38/lib/python3.8/site-packages (from requests~=2.16->msrest>=0.6.18->azure-ai-ml) (1.26.9)\nRequirement already satisfied: charset-normalizer<3,>=2 in /anaconda/envs/azureml_py38/lib/python3.8/site-packages (from requests~=2.16->msrest>=0.6.18->azure-ai-ml) (2.1.0)\nRequirement already satisfied: idna<4,>=2.5 in /anaconda/envs/azureml_py38/lib/python3.8/site-packages (from requests~=2.16->msrest>=0.6.18->azure-ai-ml) (3.3)\nRequirement already satisfied: zipp>=3.1.0; python_version < \"3.10\" in /anaconda/envs/azureml_py38/lib/python3.8/site-packages (from importlib-resources>=1.4.0; python_version < \"3.9\"->jsonschema<5.0.0,>=4.0.0->azure-ai-ml) (3.8.1)\nRequirement already satisfied: pyparsing!=3.0.5,>=2.0.2 in /anaconda/envs/azureml_py38/lib/python3.8/site-packages (from packaging>=17.0->marshmallow<4.0.0,>=3.5->azure-ai-ml) (3.0.9)\nRequirement already satisfied: cffi>=1.12 in /anaconda/envs/azureml_py38/lib/python3.8/site-packages (from cryptography>=2.1.4->azure-storage-blob<13.0.0,>=12.10.0->azure-ai-ml) (1.15.1)\nRequirement already satisfied: pycparser in /anaconda/envs/azureml_py38/lib/python3.8/site-packages (from cffi>=1.12->cryptography>=2.1.4->azure-storage-blob<13.0.0,>=12.10.0->azure-ai-ml) (2.21)\nNote: you may need to restart the kernel to use updated packages.\n"
        }
      ],
      "execution_count": 89,
      "metadata": {
        "jupyter": {
          "source_hidden": false,
          "outputs_hidden": false
        },
        "nteract": {
          "transient": {
            "deleting": false
          }
        }
      }
    },
    {
      "cell_type": "markdown",
      "source": [
        "## Connect to your workspace\n",
        "\n",
        "With the required SDK packages installed, now you're ready to connect to your workspace. We will be instantiating an object ```ml_client``` that will belong to the class MLClient which lets us manage workspaces, jobs, models, etc. \n",
        "\n",
        "> **Note**: When working from a notebook on an Azure Machine Learning managed compute instance, you don't have to provide the values for the subscription ID, resource group, and workspace name. The values are retrieved from the workspace you currently work in."
      ],
      "metadata": {}
    },
    {
      "cell_type": "code",
      "source": [
        "from azure.ai.ml import MLClient\n",
        "from azure.identity import DefaultAzureCredential\n",
        "from azureml.core import Workspace\n",
        "\n",
        "# get details of the current Azure ML workspace\n",
        "ws = Workspace.from_config()\n",
        "\n",
        "# default authentication flow for Azure applications\n",
        "default_azure_credential = DefaultAzureCredential()\n",
        "subscription_id = ws.subscription_id\n",
        "resource_group = ws.resource_group\n",
        "workspace = ws.name\n",
        "\n",
        "# client class to interact with Azure ML services and resources, e.g. workspaces, jobs, models and so on.\n",
        "ml_client = MLClient(\n",
        "   default_azure_credential,\n",
        "   subscription_id,\n",
        "   resource_group,\n",
        "   workspace)\n",
        "\n",
        "print('Ready to work with {}'.format(ws.name)) "
      ],
      "outputs": [
        {
          "output_type": "stream",
          "name": "stdout",
          "text": "Ready to work with azuremllabtest\n"
        }
      ],
      "execution_count": 90,
      "metadata": {
        "gather": {
          "logged": 1664965651163
        },
        "jupyter": {
          "outputs_hidden": false,
          "source_hidden": false
        },
        "nteract": {
          "transient": {
            "deleting": false
          }
        }
      }
    },
    {
      "cell_type": "markdown",
      "source": [
        "## Prepare data\n",
        "\n",
        "You don't need to create a training script for automated machine learning, but you do need to load the training data.\n",
        "\n",
        "In this case, you'll be using Azure Automated ML in order to predict orange juice sales. The dataset we use is taken from Dominick's Finer Foods, and is available openly.\n",
        "\n",
        "To pass a dataset as an input to an automated machine learning job, the data must be in tabular form and include a target column. For the data to be interpreted as a tabular dataset, the input dataset must be a **MLTable**.\n",
        "\n",
        "A MLTable data asset has already been created for you during set-up. You can explore the data asset by navigating to the **Data** page. You'll retrieve the data asset here by specifying its name `oj-training-table` and version `1`.\n",
        "\n",
        "Please notice that in the current version of the SDK v2 we need to have a .yaml file that defines our MLTable. That file has to be placed in a local folder or a remote folder in the cloud, along with the data file (.CSV or Parquet file)"
      ],
      "metadata": {}
    },
    {
      "cell_type": "code",
      "source": [
        "from azure.ai.ml.entities import Data\n",
        "from azure.ai.ml.constants import AssetTypes\n",
        "from azure.ai.ml import Input\n",
        "\n",
        "# creates a dataset based on the files in the local data folder\n",
        "#my_training_data_input = Input(type=AssetTypes.MLTABLE, path=\"azureml:oj-training:1\")\n",
        "\n",
        "my_training_data = Data(\n",
        "    type=AssetTypes.MLTABLE,\n",
        "    path=\"./dataraw\",\n",
        "    name=\"oj-mltable-train\",\n",
        "    description=\"Orange Juice Data Asset SDK v2\",\n",
        "    version=\"4\"\n",
        "    )\n",
        "\n",
        "ml_client.data.create_or_update(my_training_data)"
      ],
      "outputs": [
        {
          "output_type": "stream",
          "name": "stderr",
          "text": "Failed to download MLTable metadata jsonschema from \"None\", skipping validation\nTraceback (most recent call last):\n  File \"/anaconda/envs/azureml_py38/lib/python3.8/site-packages/azure/ai/ml/operations/_data_operations.py\", line 276, in _try_get_mltable_metadata_jsonschema\n    return download_mltable_metadata_schema(mltable_schema_url, self._requests_pipeline)\n  File \"/anaconda/envs/azureml_py38/lib/python3.8/site-packages/azure/ai/ml/_utils/_data_utils.py\", line 30, in download_mltable_metadata_schema\n    response = requests_pipeline.get(mltable_schema_url)\n  File \"/anaconda/envs/azureml_py38/lib/python3.8/site-packages/azure/ai/ml/_utils/_http_utils.py\", line 63, in decorated\n    return self.run(request, **kwargs).http_response\n  File \"/anaconda/envs/azureml_py38/lib/python3.8/site-packages/azure/core/pipeline/_base.py\", line 211, in run\n    return first_node.send(pipeline_request)  # type: ignore\n  File \"/anaconda/envs/azureml_py38/lib/python3.8/site-packages/azure/core/pipeline/_base.py\", line 71, in send\n    response = self.next.send(request)\n  File \"/anaconda/envs/azureml_py38/lib/python3.8/site-packages/azure/core/pipeline/_base.py\", line 71, in send\n    response = self.next.send(request)\n  File \"/anaconda/envs/azureml_py38/lib/python3.8/site-packages/azure/core/pipeline/_base.py\", line 71, in send\n    response = self.next.send(request)\n  File \"/anaconda/envs/azureml_py38/lib/python3.8/site-packages/azure/core/pipeline/policies/_redirect.py\", line 158, in send\n    response = self.next.send(request)\n  File \"/anaconda/envs/azureml_py38/lib/python3.8/site-packages/azure/core/pipeline/policies/_retry.py\", line 468, in send\n    raise err\n  File \"/anaconda/envs/azureml_py38/lib/python3.8/site-packages/azure/core/pipeline/policies/_retry.py\", line 446, in send\n    response = self.next.send(request)\n  File \"/anaconda/envs/azureml_py38/lib/python3.8/site-packages/azure/core/pipeline/_base.py\", line 71, in send\n    response = self.next.send(request)\n  File \"/anaconda/envs/azureml_py38/lib/python3.8/site-packages/azure/core/pipeline/_base.py\", line 71, in send\n    response = self.next.send(request)\n  File \"/anaconda/envs/azureml_py38/lib/python3.8/site-packages/azure/core/pipeline/_base.py\", line 103, in send\n    self._sender.send(request.http_request, **request.context.options),\n  File \"/anaconda/envs/azureml_py38/lib/python3.8/site-packages/azure/core/pipeline/transport/_requests_basic.py\", line 361, in send\n    raise error\nazure.core.exceptions.ServiceRequestError: Invalid URL 'None': No scheme supplied. Perhaps you meant http://None?\n"
        },
        {
          "output_type": "execute_result",
          "execution_count": 93,
          "data": {
            "text/plain": "Data({'skip_validation': False, 'mltable_schema_url': None, 'referenced_uris': ['./*.csv'], 'type': 'mltable', 'is_anonymous': False, 'auto_increment_version': False, 'name': 'oj-mltable-train', 'description': 'Orange Juice Data Asset SDK v2', 'tags': {}, 'properties': {}, 'id': '/subscriptions/7567b7de-befe-40fa-b883-40bb316ee50c/resourceGroups/dp100/providers/Microsoft.MachineLearningServices/workspaces/azuremllabtest/data/oj-mltable-train/versions/4', 'Resource__source_path': None, 'base_path': '/mnt/batch/tasks/shared/LS_root/mounts/clusters/annavanyan3/code/Users/annavanyan', 'creation_context': <azure.ai.ml.entities._system_data.SystemData object at 0x7fcc00e0c2b0>, 'serialize': <msrest.serialization.Serializer object at 0x7fcc00d9a4f0>, 'version': '4', 'latest_version': None, 'path': 'azureml://subscriptions/7567b7de-befe-40fa-b883-40bb316ee50c/resourcegroups/dp100/workspaces/azuremllabtest/datastores/workspaceblobstore/paths/LocalUpload/acdde790a247cbb31f1331cb3c96771a/dataraw/', 'datastore': None})"
          },
          "metadata": {}
        }
      ],
      "execution_count": 93,
      "metadata": {
        "gather": {
          "logged": 1664965655212
        },
        "jupyter": {
          "outputs_hidden": false,
          "source_hidden": false
        },
        "nteract": {
          "transient": {
            "deleting": false
          }
        }
      }
    },
    {
      "cell_type": "markdown",
      "source": [
        "@Anna add featurization here"
      ],
      "metadata": {}
    },
    {
      "cell_type": "markdown",
      "source": [
        "### Data featurization\r\n",
        "\r\n",
        "Although many of the raw data fields can be used directly to train a model, it's often necessary to create additional (engineered) features that provide information that better differentiates patterns in the data. This process is called feature engineering (data featurization), where the use of domain knowledge of the data is leveraged to create features that, in turn, help machine learning algorithms to learn better.\r\n",
        "\r\n",
        "Data featurization is one of the most important parts of a data science projects because it can improve the prediction results significantly. If we were to give a generic definition to data featurization, we could define it as encoding various forms of data to numerical data which can be used for basic ML algorithms.\r\n",
        "\r\n",
        "In Azure Machine Learning, data-scaling and normalization techniques are applied to make feature engineering easier. Collectively, these techniques and this feature engineering are called featurization in automated ML experiments.\r\n",
        "\r\n",
        "One of the featurization examples is categorical features encoding which is the process of converting categorical data into integer format so that the data with converted categorical values can be provided to the different models. There are different techniques to encode categorical features - for example One-Hot Encoder, Binary Encoding, Hash Encoding \r\n",
        "\r\n",
        "In AzureML's AutoML module we have the possibility to do the data featurization either automatically or make some custom featurizations.\r\n",
        "\r\n",
        "Let us first have a look at the ML Table that we created earlier by loading the the MLTable artifact into a Pandas dataframe. This will give us an idea on how to featurize the data further.\r\n",
        "\r\n",
        "We can use the below code to load the MLTable into a dataframe : \r\n",
        "\r\n",
        "```\r\n",
        "import mltable\r\n",
        "\r\n",
        "tbl = mltable.load(uri=\"./my_data\")\r\n",
        "df = tbl.to_pandas_dataframe()\r\n",
        "\r\n",
        "```\r\n",
        "\r\n",
        "For this code to work, we need to check if the  ```mltable``` package is installed.\r\n",
        "\r\n",
        "**Note** : The ```uri``` parameter in ```mltable.load()``` should be a valid path to a local or cloud folder which contains a valid MLTable file."
      ],
      "metadata": {
        "nteract": {
          "transient": {
            "deleting": false
          }
        }
      }
    },
    {
      "cell_type": "code",
      "source": [
        "pip install mltable"
      ],
      "outputs": [
        {
          "output_type": "stream",
          "name": "stdout",
          "text": "Requirement already satisfied: mltable in /anaconda/envs/azureml_py38/lib/python3.8/site-packages (0.1.0b4)\nRequirement already satisfied: azureml-dataprep[parquet]<4.6.0a,>=4.5.0a in /anaconda/envs/azureml_py38/lib/python3.8/site-packages (from mltable) (4.5.7)\nRequirement already satisfied: azure-mgmt-storage~=19.1.0 in /anaconda/envs/azureml_py38/lib/python3.8/site-packages (from mltable) (19.1.0)\nRequirement already satisfied: azureml-core in /anaconda/envs/azureml_py38/lib/python3.8/site-packages (from mltable) (1.44.0)\nRequirement already satisfied: pyyaml<7.0.0,>=5.1.0 in /anaconda/envs/azureml_py38/lib/python3.8/site-packages (from mltable) (6.0)\nRequirement already satisfied: cloudpickle<3.0.0,>=1.1.0 in /anaconda/envs/azureml_py38/lib/python3.8/site-packages (from azureml-dataprep[parquet]<4.6.0a,>=4.5.0a->mltable) (1.6.0)\nRequirement already satisfied: azureml-dataprep-native<39.0.0,>=38.0.0 in /anaconda/envs/azureml_py38/lib/python3.8/site-packages (from azureml-dataprep[parquet]<4.6.0a,>=4.5.0a->mltable) (38.0.0)\nRequirement already satisfied: dotnetcore2<4.0.0,>=3.0.0 in /anaconda/envs/azureml_py38/lib/python3.8/site-packages (from azureml-dataprep[parquet]<4.6.0a,>=4.5.0a->mltable) (3.1.23)\nRequirement already satisfied: azure-identity==1.7.0 in /anaconda/envs/azureml_py38/lib/python3.8/site-packages (from azureml-dataprep[parquet]<4.6.0a,>=4.5.0a->mltable) (1.7.0)\nRequirement already satisfied: azureml-dataprep-rslex~=2.11.0dev0 in /anaconda/envs/azureml_py38/lib/python3.8/site-packages (from azureml-dataprep[parquet]<4.6.0a,>=4.5.0a->mltable) (2.11.4)\nRequirement already satisfied: jsonschema in /anaconda/envs/azureml_py38/lib/python3.8/site-packages (from azureml-dataprep[parquet]<4.6.0a,>=4.5.0a->mltable) (4.9.1)\nRequirement already satisfied: pyarrow<6.0.1,>=0.17.0; extra == \"parquet\" in /anaconda/envs/azureml_py38/lib/python3.8/site-packages (from azureml-dataprep[parquet]<4.6.0a,>=4.5.0a->mltable) (6.0.0)\nRequirement already satisfied: azure-common~=1.1 in /anaconda/envs/azureml_py38/lib/python3.8/site-packages (from azure-mgmt-storage~=19.1.0->mltable) (1.1.28)\nRequirement already satisfied: msrest>=0.6.21 in /anaconda/envs/azureml_py38/lib/python3.8/site-packages (from azure-mgmt-storage~=19.1.0->mltable) (0.7.1)\nRequirement already satisfied: azure-mgmt-core<2.0.0,>=1.3.0 in /anaconda/envs/azureml_py38/lib/python3.8/site-packages (from azure-mgmt-storage~=19.1.0->mltable) (1.3.0)\nRequirement already satisfied: urllib3<=1.26.9,>=1.23 in /anaconda/envs/azureml_py38/lib/python3.8/site-packages (from azureml-core->mltable) (1.26.9)\nRequirement already satisfied: argcomplete<3 in /anaconda/envs/azureml_py38/lib/python3.8/site-packages (from azureml-core->mltable) (2.0.0)\nRequirement already satisfied: knack~=0.9.0 in /anaconda/envs/azureml_py38/lib/python3.8/site-packages (from azureml-core->mltable) (0.9.0)\nRequirement already satisfied: msal-extensions<=1.0.0,>=0.3.0 in /anaconda/envs/azureml_py38/lib/python3.8/site-packages (from azureml-core->mltable) (0.3.1)\nRequirement already satisfied: jsonpickle<3.0.0 in /anaconda/envs/azureml_py38/lib/python3.8/site-packages (from azureml-core->mltable) (2.2.0)\nRequirement already satisfied: msrestazure<=0.6.4,>=0.4.33 in /anaconda/envs/azureml_py38/lib/python3.8/site-packages (from azureml-core->mltable) (0.6.4)\nRequirement already satisfied: requests[socks]<3.0.0,>=2.19.1 in /anaconda/envs/azureml_py38/lib/python3.8/site-packages (from azureml-core->mltable) (2.28.1)\nRequirement already satisfied: ndg-httpsclient<=0.5.1 in /anaconda/envs/azureml_py38/lib/python3.8/site-packages (from azureml-core->mltable) (0.5.1)\nRequirement already satisfied: pyopenssl<23.0.0 in /anaconda/envs/azureml_py38/lib/python3.8/site-packages (from azureml-core->mltable) (22.0.0)\nRequirement already satisfied: humanfriendly<11.0,>=4.7 in /anaconda/envs/azureml_py38/lib/python3.8/site-packages (from azureml-core->mltable) (10.0)\nRequirement already satisfied: azure-graphrbac<1.0.0,>=0.40.0 in /anaconda/envs/azureml_py38/lib/python3.8/site-packages (from azureml-core->mltable) (0.61.1)\nRequirement already satisfied: azure-mgmt-authorization<3,>=0.40.0 in /anaconda/envs/azureml_py38/lib/python3.8/site-packages (from azureml-core->mltable) (2.0.0)\nRequirement already satisfied: python-dateutil<3.0.0,>=2.7.3 in /anaconda/envs/azureml_py38/lib/python3.8/site-packages (from azureml-core->mltable) (2.8.2)\nRequirement already satisfied: jmespath<=1.0.0 in /anaconda/envs/azureml_py38/lib/python3.8/site-packages (from azureml-core->mltable) (0.10.0)\nRequirement already satisfied: pathspec<1.0.0 in /anaconda/envs/azureml_py38/lib/python3.8/site-packages (from azureml-core->mltable) (0.9.0)\nRequirement already satisfied: azure-mgmt-resource<22.0.0,>=15.0.0 in /anaconda/envs/azureml_py38/lib/python3.8/site-packages (from azureml-core->mltable) (21.1.0)\nRequirement already satisfied: contextlib2<22.0.0 in /anaconda/envs/azureml_py38/lib/python3.8/site-packages (from azureml-core->mltable) (21.6.0)\nRequirement already satisfied: backports.tempfile in /anaconda/envs/azureml_py38/lib/python3.8/site-packages (from azureml-core->mltable) (1.0)\nRequirement already satisfied: paramiko<3.0.0,>=2.0.8 in /anaconda/envs/azureml_py38/lib/python3.8/site-packages (from azureml-core->mltable) (2.11.0)\nRequirement already satisfied: azure-core<2.0.0 in /anaconda/envs/azureml_py38/lib/python3.8/site-packages (from azureml-core->mltable) (1.24.2)\nRequirement already satisfied: docker<6.0.0 in /anaconda/envs/azureml_py38/lib/python3.8/site-packages (from azureml-core->mltable) (5.0.3)\nRequirement already satisfied: msal<2.0.0,>=1.15.0 in /anaconda/envs/azureml_py38/lib/python3.8/site-packages (from azureml-core->mltable) (1.18.0)\nRequirement already satisfied: PyJWT<3.0.0 in /anaconda/envs/azureml_py38/lib/python3.8/site-packages (from azureml-core->mltable) (2.4.0)\nRequirement already satisfied: cryptography!=1.9,!=2.0.*,!=2.1.*,!=2.2.*,<38.0.0 in /anaconda/envs/azureml_py38/lib/python3.8/site-packages (from azureml-core->mltable) (37.0.4)\nRequirement already satisfied: azure-mgmt-containerregistry<11,>=8.2.0 in /anaconda/envs/azureml_py38/lib/python3.8/site-packages (from azureml-core->mltable) (10.0.0)\nRequirement already satisfied: pytz in /anaconda/envs/azureml_py38/lib/python3.8/site-packages (from azureml-core->mltable) (2019.3)\nRequirement already satisfied: azure-mgmt-keyvault<11.0.0,>=0.40.0 in /anaconda/envs/azureml_py38/lib/python3.8/site-packages (from azureml-core->mltable) (10.0.0)\nRequirement already satisfied: SecretStorage<4.0.0 in /anaconda/envs/azureml_py38/lib/python3.8/site-packages (from azureml-core->mltable) (3.3.2)\nRequirement already satisfied: pkginfo in /anaconda/envs/azureml_py38/lib/python3.8/site-packages (from azureml-core->mltable) (1.8.3)\nRequirement already satisfied: adal<=1.2.7,>=1.2.0 in /anaconda/envs/azureml_py38/lib/python3.8/site-packages (from azureml-core->mltable) (1.2.7)\nRequirement already satisfied: packaging<22.0,>=20.0 in /anaconda/envs/azureml_py38/lib/python3.8/site-packages (from azureml-core->mltable) (21.3)\nRequirement already satisfied: distro>=1.2.0 in /anaconda/envs/azureml_py38/lib/python3.8/site-packages (from dotnetcore2<4.0.0,>=3.0.0->azureml-dataprep[parquet]<4.6.0a,>=4.5.0a->mltable) (1.7.0)\nRequirement already satisfied: six>=1.12.0 in /anaconda/envs/azureml_py38/lib/python3.8/site-packages (from azure-identity==1.7.0->azureml-dataprep[parquet]<4.6.0a,>=4.5.0a->mltable) (1.16.0)\nRequirement already satisfied: pyrsistent!=0.17.0,!=0.17.1,!=0.17.2,>=0.14.0 in /anaconda/envs/azureml_py38/lib/python3.8/site-packages (from jsonschema->azureml-dataprep[parquet]<4.6.0a,>=4.5.0a->mltable) (0.18.1)\nRequirement already satisfied: importlib-resources>=1.4.0; python_version < \"3.9\" in /anaconda/envs/azureml_py38/lib/python3.8/site-packages (from jsonschema->azureml-dataprep[parquet]<4.6.0a,>=4.5.0a->mltable) (5.9.0)\nRequirement already satisfied: pkgutil-resolve-name>=1.3.10; python_version < \"3.9\" in /anaconda/envs/azureml_py38/lib/python3.8/site-packages (from jsonschema->azureml-dataprep[parquet]<4.6.0a,>=4.5.0a->mltable) (1.3.10)\nRequirement already satisfied: attrs>=17.4.0 in /anaconda/envs/azureml_py38/lib/python3.8/site-packages (from jsonschema->azureml-dataprep[parquet]<4.6.0a,>=4.5.0a->mltable) (22.1.0)\nRequirement already satisfied: numpy>=1.16.6 in /anaconda/envs/azureml_py38/lib/python3.8/site-packages (from pyarrow<6.0.1,>=0.17.0; extra == \"parquet\"->azureml-dataprep[parquet]<4.6.0a,>=4.5.0a->mltable) (1.21.6)\nRequirement already satisfied: certifi>=2017.4.17 in /anaconda/envs/azureml_py38/lib/python3.8/site-packages (from msrest>=0.6.21->azure-mgmt-storage~=19.1.0->mltable) (2022.6.15)\nRequirement already satisfied: isodate>=0.6.0 in /anaconda/envs/azureml_py38/lib/python3.8/site-packages (from msrest>=0.6.21->azure-mgmt-storage~=19.1.0->mltable) (0.6.1)\nRequirement already satisfied: requests-oauthlib>=0.5.0 in /anaconda/envs/azureml_py38/lib/python3.8/site-packages (from msrest>=0.6.21->azure-mgmt-storage~=19.1.0->mltable) (1.3.1)\nRequirement already satisfied: pygments in /anaconda/envs/azureml_py38/lib/python3.8/site-packages (from knack~=0.9.0->azureml-core->mltable) (2.12.0)\nRequirement already satisfied: tabulate in /anaconda/envs/azureml_py38/lib/python3.8/site-packages (from knack~=0.9.0->azureml-core->mltable) (0.8.10)\nRequirement already satisfied: portalocker<3,>=1.0; python_version >= \"3.5\" and platform_system != \"Windows\" in /anaconda/envs/azureml_py38/lib/python3.8/site-packages (from msal-extensions<=1.0.0,>=0.3.0->azureml-core->mltable) (2.5.1)\nRequirement already satisfied: idna<4,>=2.5 in /anaconda/envs/azureml_py38/lib/python3.8/site-packages (from requests[socks]<3.0.0,>=2.19.1->azureml-core->mltable) (3.3)\nRequirement already satisfied: charset-normalizer<3,>=2 in /anaconda/envs/azureml_py38/lib/python3.8/site-packages (from requests[socks]<3.0.0,>=2.19.1->azureml-core->mltable) (2.1.0)\nRequirement already satisfied: PySocks!=1.5.7,>=1.5.6; extra == \"socks\" in /anaconda/envs/azureml_py38/lib/python3.8/site-packages (from requests[socks]<3.0.0,>=2.19.1->azureml-core->mltable) (1.7.1)\nRequirement already satisfied: pyasn1>=0.1.1 in /anaconda/envs/azureml_py38/lib/python3.8/site-packages (from ndg-httpsclient<=0.5.1->azureml-core->mltable) (0.4.8)\nRequirement already satisfied: backports.weakref in /anaconda/envs/azureml_py38/lib/python3.8/site-packages (from backports.tempfile->azureml-core->mltable) (1.0.post1)\nRequirement already satisfied: pynacl>=1.0.1 in /anaconda/envs/azureml_py38/lib/python3.8/site-packages (from paramiko<3.0.0,>=2.0.8->azureml-core->mltable) (1.5.0)\nRequirement already satisfied: bcrypt>=3.1.3 in /anaconda/envs/azureml_py38/lib/python3.8/site-packages (from paramiko<3.0.0,>=2.0.8->azureml-core->mltable) (3.2.2)\nRequirement already satisfied: typing-extensions>=4.0.1 in /anaconda/envs/azureml_py38/lib/python3.8/site-packages (from azure-core<2.0.0->azureml-core->mltable) (4.3.0)\nRequirement already satisfied: websocket-client>=0.32.0 in /anaconda/envs/azureml_py38/lib/python3.8/site-packages (from docker<6.0.0->azureml-core->mltable) (1.3.3)\nRequirement already satisfied: cffi>=1.12 in /anaconda/envs/azureml_py38/lib/python3.8/site-packages (from cryptography!=1.9,!=2.0.*,!=2.1.*,!=2.2.*,<38.0.0->azureml-core->mltable) (1.15.1)\nRequirement already satisfied: jeepney>=0.6 in /anaconda/envs/azureml_py38/lib/python3.8/site-packages (from SecretStorage<4.0.0->azureml-core->mltable) (0.8.0)\nRequirement already satisfied: pyparsing!=3.0.5,>=2.0.2 in /anaconda/envs/azureml_py38/lib/python3.8/site-packages (from packaging<22.0,>=20.0->azureml-core->mltable) (3.0.9)\nRequirement already satisfied: zipp>=3.1.0; python_version < \"3.10\" in /anaconda/envs/azureml_py38/lib/python3.8/site-packages (from importlib-resources>=1.4.0; python_version < \"3.9\"->jsonschema->azureml-dataprep[parquet]<4.6.0a,>=4.5.0a->mltable) (3.8.1)\nRequirement already satisfied: oauthlib>=3.0.0 in /anaconda/envs/azureml_py38/lib/python3.8/site-packages (from requests-oauthlib>=0.5.0->msrest>=0.6.21->azure-mgmt-storage~=19.1.0->mltable) (3.2.0)\nRequirement already satisfied: pycparser in /anaconda/envs/azureml_py38/lib/python3.8/site-packages (from cffi>=1.12->cryptography!=1.9,!=2.0.*,!=2.1.*,!=2.2.*,<38.0.0->azureml-core->mltable) (2.21)\nNote: you may need to restart the kernel to use updated packages.\n"
        }
      ],
      "execution_count": 92,
      "metadata": {
        "jupyter": {
          "source_hidden": false,
          "outputs_hidden": false
        },
        "nteract": {
          "transient": {
            "deleting": false
          }
        }
      }
    },
    {
      "cell_type": "code",
      "source": [
        "import mltable\r\n",
        "\r\n",
        "tbl = mltable.load(uri=\"./dataraw\")\r\n",
        "df = tbl.to_pandas_dataframe()"
      ],
      "outputs": [],
      "execution_count": 94,
      "metadata": {
        "jupyter": {
          "source_hidden": false,
          "outputs_hidden": false
        },
        "nteract": {
          "transient": {
            "deleting": false
          }
        }
      }
    },
    {
      "cell_type": "code",
      "source": [
        "df.head()"
      ],
      "outputs": [
        {
          "output_type": "execute_result",
          "execution_count": 95,
          "data": {
            "text/plain": "  WeekStarting Store        Brand Quantity  logQuantity Advert Price  \\\n0    6/14/2018     2    dominicks    10560  9.264828557      1  1.59   \n1    6/14/2018     2  minute.maid     4480  8.407378325      0  3.17   \n2    6/14/2018     2    tropicana     8256  9.018695488      0  3.87   \n3    6/14/2018     5    dominicks     1792  7.491087594      1  1.59   \n4    6/14/2018     5  minute.maid     4224  8.348537825      0  2.99   \n\n         Age60      COLLEGE       INCOME   Hincome150     Large HH  \\\n0  0.232864734  0.248934934  10.55320518  0.463887065  0.103953406   \n1  0.232864734  0.248934934  10.55320518  0.463887065  0.103953406   \n2  0.232864734  0.248934934  10.55320518  0.463887065  0.103953406   \n3  0.117368032   0.32122573  10.92237097  0.535883355  0.103091585   \n4  0.117368032   0.32122573  10.92237097  0.535883355  0.103091585   \n\n    Minorities WorkingWoman     SSTRDIST      SSTRVOL      CPDIST5  \\\n0  0.114279949  0.303585347  2.110122129  1.142857143  1.927279669   \n1  0.114279949  0.303585347  2.110122129  1.142857143  1.927279669   \n2  0.114279949  0.303585347  2.110122129  1.142857143  1.927279669   \n3  0.053875277  0.410568032  3.801997814  0.681818182  1.600573425   \n4  0.053875277  0.410568032  3.801997814  0.681818182  1.600573425   \n\n       CPWVOL5  \n0  0.376926613  \n1  0.376926613  \n2  0.376926613  \n3  0.736306837  \n4  0.736306837  ",
            "text/html": "<div>\n<style scoped>\n    .dataframe tbody tr th:only-of-type {\n        vertical-align: middle;\n    }\n\n    .dataframe tbody tr th {\n        vertical-align: top;\n    }\n\n    .dataframe thead th {\n        text-align: right;\n    }\n</style>\n<table border=\"1\" class=\"dataframe\">\n  <thead>\n    <tr style=\"text-align: right;\">\n      <th></th>\n      <th>WeekStarting</th>\n      <th>Store</th>\n      <th>Brand</th>\n      <th>Quantity</th>\n      <th>logQuantity</th>\n      <th>Advert</th>\n      <th>Price</th>\n      <th>Age60</th>\n      <th>COLLEGE</th>\n      <th>INCOME</th>\n      <th>Hincome150</th>\n      <th>Large HH</th>\n      <th>Minorities</th>\n      <th>WorkingWoman</th>\n      <th>SSTRDIST</th>\n      <th>SSTRVOL</th>\n      <th>CPDIST5</th>\n      <th>CPWVOL5</th>\n    </tr>\n  </thead>\n  <tbody>\n    <tr>\n      <th>0</th>\n      <td>6/14/2018</td>\n      <td>2</td>\n      <td>dominicks</td>\n      <td>10560</td>\n      <td>9.264828557</td>\n      <td>1</td>\n      <td>1.59</td>\n      <td>0.232864734</td>\n      <td>0.248934934</td>\n      <td>10.55320518</td>\n      <td>0.463887065</td>\n      <td>0.103953406</td>\n      <td>0.114279949</td>\n      <td>0.303585347</td>\n      <td>2.110122129</td>\n      <td>1.142857143</td>\n      <td>1.927279669</td>\n      <td>0.376926613</td>\n    </tr>\n    <tr>\n      <th>1</th>\n      <td>6/14/2018</td>\n      <td>2</td>\n      <td>minute.maid</td>\n      <td>4480</td>\n      <td>8.407378325</td>\n      <td>0</td>\n      <td>3.17</td>\n      <td>0.232864734</td>\n      <td>0.248934934</td>\n      <td>10.55320518</td>\n      <td>0.463887065</td>\n      <td>0.103953406</td>\n      <td>0.114279949</td>\n      <td>0.303585347</td>\n      <td>2.110122129</td>\n      <td>1.142857143</td>\n      <td>1.927279669</td>\n      <td>0.376926613</td>\n    </tr>\n    <tr>\n      <th>2</th>\n      <td>6/14/2018</td>\n      <td>2</td>\n      <td>tropicana</td>\n      <td>8256</td>\n      <td>9.018695488</td>\n      <td>0</td>\n      <td>3.87</td>\n      <td>0.232864734</td>\n      <td>0.248934934</td>\n      <td>10.55320518</td>\n      <td>0.463887065</td>\n      <td>0.103953406</td>\n      <td>0.114279949</td>\n      <td>0.303585347</td>\n      <td>2.110122129</td>\n      <td>1.142857143</td>\n      <td>1.927279669</td>\n      <td>0.376926613</td>\n    </tr>\n    <tr>\n      <th>3</th>\n      <td>6/14/2018</td>\n      <td>5</td>\n      <td>dominicks</td>\n      <td>1792</td>\n      <td>7.491087594</td>\n      <td>1</td>\n      <td>1.59</td>\n      <td>0.117368032</td>\n      <td>0.32122573</td>\n      <td>10.92237097</td>\n      <td>0.535883355</td>\n      <td>0.103091585</td>\n      <td>0.053875277</td>\n      <td>0.410568032</td>\n      <td>3.801997814</td>\n      <td>0.681818182</td>\n      <td>1.600573425</td>\n      <td>0.736306837</td>\n    </tr>\n    <tr>\n      <th>4</th>\n      <td>6/14/2018</td>\n      <td>5</td>\n      <td>minute.maid</td>\n      <td>4224</td>\n      <td>8.348537825</td>\n      <td>0</td>\n      <td>2.99</td>\n      <td>0.117368032</td>\n      <td>0.32122573</td>\n      <td>10.92237097</td>\n      <td>0.535883355</td>\n      <td>0.103091585</td>\n      <td>0.053875277</td>\n      <td>0.410568032</td>\n      <td>3.801997814</td>\n      <td>0.681818182</td>\n      <td>1.600573425</td>\n      <td>0.736306837</td>\n    </tr>\n  </tbody>\n</table>\n</div>"
          },
          "metadata": {}
        }
      ],
      "execution_count": 95,
      "metadata": {
        "jupyter": {
          "source_hidden": false,
          "outputs_hidden": false
        },
        "nteract": {
          "transient": {
            "deleting": false
          }
        }
      }
    },
    {
      "cell_type": "markdown",
      "source": [
        "Let's remove the **logQuantity** column as it is introducing data leak into our dataset."
      ],
      "metadata": {
        "nteract": {
          "transient": {
            "deleting": false
          }
        }
      }
    },
    {
      "cell_type": "code",
      "source": [
        "df.drop(\"logQuantity\", axis=1, inplace=True)"
      ],
      "outputs": [],
      "execution_count": 96,
      "metadata": {
        "jupyter": {
          "source_hidden": false,
          "outputs_hidden": false
        },
        "nteract": {
          "transient": {
            "deleting": false
          }
        }
      }
    },
    {
      "cell_type": "markdown",
      "source": [
        "Let's see how the dataframe looks like now without the data leakage column."
      ],
      "metadata": {
        "nteract": {
          "transient": {
            "deleting": false
          }
        }
      }
    },
    {
      "cell_type": "code",
      "source": [
        "df.head()"
      ],
      "outputs": [
        {
          "output_type": "execute_result",
          "execution_count": 97,
          "data": {
            "text/plain": "  WeekStarting Store        Brand Quantity Advert Price        Age60  \\\n0    6/14/2018     2    dominicks    10560      1  1.59  0.232864734   \n1    6/14/2018     2  minute.maid     4480      0  3.17  0.232864734   \n2    6/14/2018     2    tropicana     8256      0  3.87  0.232864734   \n3    6/14/2018     5    dominicks     1792      1  1.59  0.117368032   \n4    6/14/2018     5  minute.maid     4224      0  2.99  0.117368032   \n\n       COLLEGE       INCOME   Hincome150     Large HH   Minorities  \\\n0  0.248934934  10.55320518  0.463887065  0.103953406  0.114279949   \n1  0.248934934  10.55320518  0.463887065  0.103953406  0.114279949   \n2  0.248934934  10.55320518  0.463887065  0.103953406  0.114279949   \n3   0.32122573  10.92237097  0.535883355  0.103091585  0.053875277   \n4   0.32122573  10.92237097  0.535883355  0.103091585  0.053875277   \n\n  WorkingWoman     SSTRDIST      SSTRVOL      CPDIST5      CPWVOL5  \n0  0.303585347  2.110122129  1.142857143  1.927279669  0.376926613  \n1  0.303585347  2.110122129  1.142857143  1.927279669  0.376926613  \n2  0.303585347  2.110122129  1.142857143  1.927279669  0.376926613  \n3  0.410568032  3.801997814  0.681818182  1.600573425  0.736306837  \n4  0.410568032  3.801997814  0.681818182  1.600573425  0.736306837  ",
            "text/html": "<div>\n<style scoped>\n    .dataframe tbody tr th:only-of-type {\n        vertical-align: middle;\n    }\n\n    .dataframe tbody tr th {\n        vertical-align: top;\n    }\n\n    .dataframe thead th {\n        text-align: right;\n    }\n</style>\n<table border=\"1\" class=\"dataframe\">\n  <thead>\n    <tr style=\"text-align: right;\">\n      <th></th>\n      <th>WeekStarting</th>\n      <th>Store</th>\n      <th>Brand</th>\n      <th>Quantity</th>\n      <th>Advert</th>\n      <th>Price</th>\n      <th>Age60</th>\n      <th>COLLEGE</th>\n      <th>INCOME</th>\n      <th>Hincome150</th>\n      <th>Large HH</th>\n      <th>Minorities</th>\n      <th>WorkingWoman</th>\n      <th>SSTRDIST</th>\n      <th>SSTRVOL</th>\n      <th>CPDIST5</th>\n      <th>CPWVOL5</th>\n    </tr>\n  </thead>\n  <tbody>\n    <tr>\n      <th>0</th>\n      <td>6/14/2018</td>\n      <td>2</td>\n      <td>dominicks</td>\n      <td>10560</td>\n      <td>1</td>\n      <td>1.59</td>\n      <td>0.232864734</td>\n      <td>0.248934934</td>\n      <td>10.55320518</td>\n      <td>0.463887065</td>\n      <td>0.103953406</td>\n      <td>0.114279949</td>\n      <td>0.303585347</td>\n      <td>2.110122129</td>\n      <td>1.142857143</td>\n      <td>1.927279669</td>\n      <td>0.376926613</td>\n    </tr>\n    <tr>\n      <th>1</th>\n      <td>6/14/2018</td>\n      <td>2</td>\n      <td>minute.maid</td>\n      <td>4480</td>\n      <td>0</td>\n      <td>3.17</td>\n      <td>0.232864734</td>\n      <td>0.248934934</td>\n      <td>10.55320518</td>\n      <td>0.463887065</td>\n      <td>0.103953406</td>\n      <td>0.114279949</td>\n      <td>0.303585347</td>\n      <td>2.110122129</td>\n      <td>1.142857143</td>\n      <td>1.927279669</td>\n      <td>0.376926613</td>\n    </tr>\n    <tr>\n      <th>2</th>\n      <td>6/14/2018</td>\n      <td>2</td>\n      <td>tropicana</td>\n      <td>8256</td>\n      <td>0</td>\n      <td>3.87</td>\n      <td>0.232864734</td>\n      <td>0.248934934</td>\n      <td>10.55320518</td>\n      <td>0.463887065</td>\n      <td>0.103953406</td>\n      <td>0.114279949</td>\n      <td>0.303585347</td>\n      <td>2.110122129</td>\n      <td>1.142857143</td>\n      <td>1.927279669</td>\n      <td>0.376926613</td>\n    </tr>\n    <tr>\n      <th>3</th>\n      <td>6/14/2018</td>\n      <td>5</td>\n      <td>dominicks</td>\n      <td>1792</td>\n      <td>1</td>\n      <td>1.59</td>\n      <td>0.117368032</td>\n      <td>0.32122573</td>\n      <td>10.92237097</td>\n      <td>0.535883355</td>\n      <td>0.103091585</td>\n      <td>0.053875277</td>\n      <td>0.410568032</td>\n      <td>3.801997814</td>\n      <td>0.681818182</td>\n      <td>1.600573425</td>\n      <td>0.736306837</td>\n    </tr>\n    <tr>\n      <th>4</th>\n      <td>6/14/2018</td>\n      <td>5</td>\n      <td>minute.maid</td>\n      <td>4224</td>\n      <td>0</td>\n      <td>2.99</td>\n      <td>0.117368032</td>\n      <td>0.32122573</td>\n      <td>10.92237097</td>\n      <td>0.535883355</td>\n      <td>0.103091585</td>\n      <td>0.053875277</td>\n      <td>0.410568032</td>\n      <td>3.801997814</td>\n      <td>0.681818182</td>\n      <td>1.600573425</td>\n      <td>0.736306837</td>\n    </tr>\n  </tbody>\n</table>\n</div>"
          },
          "metadata": {}
        }
      ],
      "execution_count": 97,
      "metadata": {
        "jupyter": {
          "source_hidden": false,
          "outputs_hidden": false
        },
        "nteract": {
          "transient": {
            "deleting": false
          }
        }
      }
    },
    {
      "cell_type": "markdown",
      "source": [
        "Let's now save this as a .csv file and use it as input to our ML job."
      ],
      "metadata": {
        "nteract": {
          "transient": {
            "deleting": false
          }
        }
      }
    },
    {
      "cell_type": "code",
      "source": [
        "df.to_csv(\"./dataprep/oj_prepped.csv\", sep=',', encoding='ascii')"
      ],
      "outputs": [],
      "execution_count": 98,
      "metadata": {
        "jupyter": {
          "source_hidden": false,
          "outputs_hidden": false
        },
        "nteract": {
          "transient": {
            "deleting": false
          }
        }
      }
    },
    {
      "cell_type": "markdown",
      "source": [
        "Now we will use the newly created .csv file as an MLTable **Input** to our AutoML Forecasting job. Please notice that we havethe ``MLTable`` .yml definition of that file in the *dataprep* folder as well, which defines the schema and the transformations of our .csv file."
      ],
      "metadata": {
        "nteract": {
          "transient": {
            "deleting": false
          }
        }
      }
    },
    {
      "cell_type": "code",
      "source": [
        "my_training_data_input = Input(\r\n",
        "    type=AssetTypes.MLTABLE, path=\"./dataprep\"\r\n",
        ")"
      ],
      "outputs": [],
      "execution_count": 99,
      "metadata": {
        "jupyter": {
          "source_hidden": false,
          "outputs_hidden": false
        },
        "nteract": {
          "transient": {
            "deleting": false
          }
        }
      }
    },
    {
      "cell_type": "markdown",
      "source": [
        "## Specialized Forecasting Parameters\r\n",
        "\r\n",
        "To define forecasting parameters for your experiment training, you can leverage the ```.set_forecast_settings()``` method. The table below details the forecasting parameters we will be passing into our experiment.\r\n",
        "\r\n",
        "| Property                  | Description                  |\r\n",
        "| ------------------------- |:----------------------------:|\r\n",
        "| **time_column_name**      | The name of your time column |\r\n",
        "| **forecast_horizon**      | The forecast horizon is how many periods forward you would like to forecast. This integer horizon is in units of the timeseries frequency (e.g. daily, weekly)      |\r\n",
        "| **frequency**      | Forecast frequency. This optional parameter represents the period with which the forecast is desired, for example, daily, weekly, yearly, etc. Use this parameter for the correction of time series containing irregular data points or for padding of short time series. The frequency needs to be a pandas offset alias. Please refer to pandas documentation for more information.|"
      ],
      "metadata": {
        "nteract": {
          "transient": {
            "deleting": false
          }
        }
      }
    },
    {
      "cell_type": "markdown",
      "source": [
        "## Configure automated machine learning job\n",
        "\n",
        "Now, you're ready to configure the automated machine learning experiment.\n",
        "\n",
        "When you run the code below, it will create an automated machine learning job that:\n",
        "\n",
        "- Uses the compute cluster named `aml-cluster`\n",
        "- Sets `Quantity` as the target column\n",
        "- Sets `normalized_root_mean_squarred_error` as the primary metric\n",
        "- Times out after `60` minutes of total training time \n",
        "- Trains a maximum of `5` models\n",
        "- Forecast horizon will be 5 time units, which translates to 5 weeks"
      ],
      "metadata": {}
    },
    {
      "cell_type": "markdown",
      "source": [
        "## Compute configuration\r\n",
        "\r\n",
        "We will need to configure a compute cluster where we will run the forecasting job."
      ],
      "metadata": {
        "nteract": {
          "transient": {
            "deleting": false
          }
        }
      }
    },
    {
      "cell_type": "code",
      "source": [
        "from azure.ai.ml.entities import AmlCompute\r\n",
        "\r\n",
        "# Name assigned to the compute cluster\r\n",
        "cpu_compute_target = \"aml-cluster\"\r\n",
        "\r\n",
        "try:\r\n",
        "    # let's see if the compute target already exists\r\n",
        "    cpu_cluster = ml_client.compute.get(cpu_compute_target)\r\n",
        "    print(\r\n",
        "        f\"You already have a cluster named {cpu_compute_target}, we'll reuse it as is.\"\r\n",
        "    )\r\n",
        "\r\n",
        "except Exception:\r\n",
        "    print(\"Creating a new cpu compute target...\")\r\n",
        "\r\n",
        "    # Let's create the Azure ML compute object with the intended parameters\r\n",
        "    cpu_cluster = AmlCompute(\r\n",
        "        name=cpu_compute_target,\r\n",
        "        # Azure ML Compute is the on-demand VM service\r\n",
        "        type=\"amlcompute\",\r\n",
        "        # VM Family\r\n",
        "        size=\"STANDARD_DS11_V2\",\r\n",
        "        # Minimum running nodes when there is no job running\r\n",
        "        min_instances=0,\r\n",
        "        # Nodes in cluster\r\n",
        "        max_instances=2,\r\n",
        "        # How many seconds will the node running after the job termination\r\n",
        "        idle_time_before_scale_down=120,\r\n",
        "        # Dedicated or LowPriority. The latter is cheaper but there is a chance of job termination\r\n",
        "        tier=\"Dedicated\",\r\n",
        "    )\r\n",
        "\r\n",
        "    # Now, we pass the object to MLClient's create_or_update method\r\n",
        "    cpu_cluster = ml_client.compute.begin_create_or_update(cpu_cluster)\r\n",
        "\r\n",
        "    print(\r\n",
        "        f\"AMLCompute with name {cpu_cluster.name} is created, the compute size is {cpu_cluster.size}\"\r\n",
        "    )"
      ],
      "outputs": [
        {
          "output_type": "stream",
          "name": "stdout",
          "text": "You already have a cluster named aml-cluster, we'll reuse it as is.\n"
        }
      ],
      "execution_count": 100,
      "metadata": {
        "jupyter": {
          "source_hidden": false,
          "outputs_hidden": false
        },
        "nteract": {
          "transient": {
            "deleting": false
          }
        }
      }
    },
    {
      "cell_type": "markdown",
      "source": [
        "## AutoML Forecasting Job Configuration"
      ],
      "metadata": {
        "nteract": {
          "transient": {
            "deleting": false
          }
        }
      }
    },
    {
      "cell_type": "code",
      "source": [
        "from azure.ai.ml import automl\r\n",
        "\r\n",
        "# configure the forecasting job\r\n",
        "forecasting_job = automl.forecasting(\r\n",
        "    compute=cpu_compute_target,\r\n",
        "    experiment_name=\"forecasting\",\r\n",
        "    training_data=my_training_data_input,\r\n",
        "    # validation_data = my_validation_data_input,\r\n",
        "    target_column_name=\"Quantity\",\r\n",
        "    primary_metric=\"NormalizedRootMeanSquaredError\",\r\n",
        "    n_cross_validations=3,\r\n",
        "    enable_model_explainability=True,\r\n",
        "    tags={\"my_custom_tag\": \"My custom value\"},\r\n",
        ")\r\n",
        "\r\n",
        "# Limits are all optional\r\n",
        "forecasting_job.set_limits(\r\n",
        "    timeout_minutes=60,\r\n",
        "    trial_timeout_minutes=20,\r\n",
        "    max_trials=4,\r\n",
        "    # max_concurrent_trials = 4,\r\n",
        "    # max_cores_per_trial: -1,\r\n",
        "    enable_early_termination=True,\r\n",
        ")\r\n",
        "\r\n",
        "# Specialized properties for Time Series Forecasting training\r\n",
        "forecasting_job.set_forecast_settings(\r\n",
        "    time_column_name=\"WeekStarting\",\r\n",
        "    forecast_horizon=48,\r\n",
        "    frequency=\"H\",\r\n",
        "    target_lags=[12],\r\n",
        "    target_rolling_window_size=4,\r\n",
        "    # ADDITIONAL FORECASTING TRAINING PARAMS ---\r\n",
        "    # time_series_id_column_names=[\"tid1\", \"tid2\", \"tid2\"],\r\n",
        "    # short_series_handling_config=ShortSeriesHandlingConfiguration.DROP,\r\n",
        "    # use_stl=\"season\",\r\n",
        "    # seasonality=3,\r\n",
        ")"
      ],
      "outputs": [],
      "execution_count": 101,
      "metadata": {
        "jupyter": {
          "source_hidden": false,
          "outputs_hidden": false
        },
        "nteract": {
          "transient": {
            "deleting": false
          }
        }
      }
    },
    {
      "cell_type": "markdown",
      "source": [
        "Once our featurization job object is created, we can now add the featurization that we made earlier to the job and then submit the job.\r\n",
        "\r\n",
        "In the SDK v2 a job can be submitted using the ```create_or_update()``` method on the ```ml_client.jobs```. As you remember from the beginning of this exercise, ```ml_client``` is an object from MLClient class that allows working with jobs, workspaces etc."
      ],
      "metadata": {
        "nteract": {
          "transient": {
            "deleting": false
          }
        }
      }
    },
    {
      "cell_type": "code",
      "source": [
        "forecasting_job.set_featurization(\r\n",
        "    mode=\"auto\"\r\n",
        ")\r\n",
        "\r\n",
        "#forecasting_job.set_featurization(\r\n",
        "#    mode=\"auto\",\r\n",
        "#    transformer_params=transformer_params,\r\n",
        "#    blocked_transformers=[\"LabelEncoding\"],\r\n",
        "#    column_name_and_types={\"CHMIN\": \"Categorical\"},\r\n",
        "#)\r\n",
        "\r\n",
        "#from azure.ai.ml.automl import ColumnTransformer\r\n",
        "\r\n",
        "#transformer_params = {\r\n",
        "#    \"imputer\": [\r\n",
        "#        ColumnTransformer(fields=[\"CACH\"], parameters={\"strategy\": \"most_frequent\"}),\r\n",
        "#        ColumnTransformer(fields=[\"PRP\"], parameters={\"strategy\": \"most_frequent\"}),\r\n",
        "#    ],\r\n",
        "#}\r\n",
        "#regression_job.set_featurization(\r\n",
        "#    mode=\"custom\",\r\n",
        "#    transformer_params=transformer_params,\r\n",
        "#    blocked_transformers=[\"LabelEncoding\"],\r\n",
        "#    column_name_and_types={\"CHMIN\": \"Categorical\"},\r\n",
        "#)"
      ],
      "outputs": [],
      "execution_count": 102,
      "metadata": {
        "jupyter": {
          "source_hidden": false,
          "outputs_hidden": false
        },
        "nteract": {
          "transient": {
            "deleting": false
          }
        }
      }
    },
    {
      "cell_type": "markdown",
      "source": [
        "## Run an automated machine learning job\n",
        "\n",
        "OK, you're ready to go. Let's run the automated machine learning experiment.\n",
        "\n",
        "> **Note**: This may take some time!"
      ],
      "metadata": {}
    },
    {
      "cell_type": "code",
      "source": [
        "# Submit the AutoML job\n",
        "returned_job = ml_client.jobs.create_or_update(forecasting_job)\n",
        "# submit the job to the backend"
      ],
      "outputs": [],
      "execution_count": 83,
      "metadata": {
        "gather": {
          "logged": 1664965739262
        },
        "jupyter": {
          "outputs_hidden": false,
          "source_hidden": false
        },
        "nteract": {
          "transient": {
            "deleting": false
          }
        }
      }
    },
    {
      "cell_type": "code",
      "source": [
        "print(f\"Created job: {returned_job}\")\r\n",
        "\r\n",
        "# Get a URL for the status of the job\r\n",
        "returned_job.services[\"Studio\"].endpoint"
      ],
      "outputs": [
        {
          "output_type": "stream",
          "name": "stdout",
          "text": "Created job: ForecastingJob({'log_verbosity': <LogVerbosity.INFO: 'Info'>, 'target_column_name': 'Quantity', 'weight_column_name': None, 'validation_data_size': None, 'cv_split_column_names': None, 'n_cross_validations': 3, 'test_data_size': None, 'task_type': <TaskType.FORECASTING: 'Forecasting'>, 'training_data': {'type': 'mltable', 'path': 'azureml://datastores/workspaceblobstore/paths/LocalUpload/acdde790a247cbb31f1331cb3c96771a/dataav'}, 'validation_data': {'type': 'mltable'}, 'test_data': None, 'environment_id': None, 'environment_variables': None, 'outputs': {}, 'type': 'automl', 'status': 'NotStarted', 'log_files': None, 'name': 'ashy_goat_501wm98jwb', 'description': None, 'tags': {'my_custom_tag': 'My custom value'}, 'properties': {}, 'id': '/subscriptions/7567b7de-befe-40fa-b883-40bb316ee50c/resourceGroups/dp100/providers/Microsoft.MachineLearningServices/workspaces/azuremllabtest/jobs/ashy_goat_501wm98jwb', 'Resource__source_path': None, 'base_path': '/mnt/batch/tasks/shared/LS_root/mounts/clusters/annavanyan3/code/Users/annavanyan', 'creation_context': <azure.ai.ml._restclient.v2022_10_01_preview.models._models_py3.SystemData object at 0x7fcc01012310>, 'serialize': <msrest.serialization.Serializer object at 0x7fcc01600d00>, 'inputs': {}, 'display_name': 'ashy_goat_501wm98jwb', 'experiment_name': 'forecasting', 'compute': 'aml-cluster', 'services': {'Tracking': <azure.ai.ml._restclient.v2022_10_01_preview.models._models_py3.JobService object at 0x7fcc01012700>, 'Studio': <azure.ai.ml._restclient.v2022_10_01_preview.models._models_py3.JobService object at 0x7fcc01012730>}, 'resources': <azure.ai.ml._restclient.v2022_10_01_preview.models._models_py3.JobResourceConfiguration object at 0x7fcc01012430>, 'identity': None, 'featurization': <azure.ai.ml.entities._job.automl.tabular.featurization_settings.TabularFeaturizationSettings object at 0x7fcc5fa50730>, 'limits': <azure.ai.ml.entities._job.automl.tabular.limit_settings.TabularLimitSettings object at 0x7fcc5f8f9280>, 'training': <azure.ai.ml.entities._job.automl.training_settings.ForecastingTrainingSettings object at 0x7fcc5f985e50>, 'primary_metric': <ForecastingPrimaryMetrics.NORMALIZED_ROOT_MEAN_SQUARED_ERROR: 'NormalizedRootMeanSquaredError'>, 'forecasting_settings': <azure.ai.ml.entities._job.automl.tabular.forecasting_settings.ForecastingSettings object at 0x7fcc01600bb0>})\n"
        },
        {
          "output_type": "execute_result",
          "execution_count": 84,
          "data": {
            "text/plain": "'https://ml.azure.com/runs/ashy_goat_501wm98jwb?wsid=/subscriptions/7567b7de-befe-40fa-b883-40bb316ee50c/resourcegroups/dp100/workspaces/azuremllabtest&tid=72f988bf-86f1-41af-91ab-2d7cd011db47'"
          },
          "metadata": {}
        }
      ],
      "execution_count": 84,
      "metadata": {
        "jupyter": {
          "source_hidden": false,
          "outputs_hidden": false
        },
        "nteract": {
          "transient": {
            "deleting": false
          }
        }
      }
    },
    {
      "cell_type": "markdown",
      "source": [
        "While the job is running, you can monitor it in the Studio."
      ],
      "metadata": {}
    },
    {
      "cell_type": "markdown",
      "source": [
        "## Metrics for Time Series Forecasting scenarios\r\n",
        "\r\n",
        "| **Metric**                           | **Example Use Case**                  |\r\n",
        "| ------------------------------------ |:-------------------------------------:|\r\n",
        "|``normalized_root_mean_squared_error``| Price prediction (forecasting), Inventory optimization, Demand forecasting|\r\n",
        "|``r2_score``                          | Price prediction (forecasting), Inventory optimization, Demand forecasting|\r\n",
        "|``normalized_mean_absolute_error``    ||\r\n",
        "\r\n",
        "\r\n",
        "``r2_score``, ``normalized_mean_absolute_error`` and ``normalized_root_mean_squared_error`` are all trying to minimize prediction errors. ``r2_score`` and ``normalized_root_mean_squared_error`` are both minimizing average squared errors while ``normalized_mean_absolute_error`` is minizing the average absolute value of errors.\r\n",
        "\r\n",
        "Absolute value treats errors at all magnitudes alike and squared errors will have a much larger penalty for errors with larger absolute values. Depending on whether larger errors should be punished more or not, one can choose to optimize squared error or absolute error."
      ],
      "metadata": {
        "nteract": {
          "transient": {
            "deleting": false
          }
        }
      }
    },
    {
      "cell_type": "markdown",
      "source": [
        "## Delete Azure resources\n",
        "\n",
        "When you finish exploring Azure Machine Learning, you should delete the resources you've created to avoid unnecessary Azure costs.\n",
        "\n",
        "1. Close the Azure Machine Learning Studio tab and return to the Azure portal.\n",
        "1. In the Azure portal, on the **Home** page, select **Resource groups**.\n",
        "1. Select the **rg-dp100-labs** resource group.\n",
        "1. At the top of the **Overview** page for your resource group, select **Delete resource group**. \n",
        "1. Enter the resource group name to confirm you want to delete it, and select **Delete**."
      ],
      "metadata": {}
    }
  ],
  "metadata": {
    "kernel_info": {
      "name": "python3"
    },
    "kernelspec": {
      "name": "python3",
      "language": "python",
      "display_name": "Python 3 (ipykernel)"
    },
    "language_info": {
      "name": "python",
      "version": "3.8.5",
      "mimetype": "text/x-python",
      "codemirror_mode": {
        "name": "ipython",
        "version": 3
      },
      "pygments_lexer": "ipython3",
      "nbconvert_exporter": "python",
      "file_extension": ".py"
    },
    "microsoft": {
      "host": {
        "AzureML": {
          "notebookHasBeenCompleted": true
        }
      }
    },
    "nteract": {
      "version": "nteract-front-end@1.0.0"
    },
    "vscode": {
      "interpreter": {
        "hash": "f2b2cd046deda8eabef1e765a11d0ec9aa9bd1d31d56ce79c815a38c323e14ec"
      }
    }
  },
  "nbformat": 4,
  "nbformat_minor": 0
}